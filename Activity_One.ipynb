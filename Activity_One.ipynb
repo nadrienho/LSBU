{
 "cells": [
  {
   "cell_type": "code",
   "execution_count": 1,
   "id": "0287fbb9",
   "metadata": {},
   "outputs": [],
   "source": [
    "myName = 'Adrien Ngassam'"
   ]
  },
  {
   "cell_type": "code",
   "execution_count": 2,
   "id": "0e24cec7",
   "metadata": {},
   "outputs": [],
   "source": [
    "year = 2024"
   ]
  },
  {
   "cell_type": "code",
   "execution_count": 3,
   "id": "16ff1914",
   "metadata": {},
   "outputs": [],
   "source": [
    "pi = 3.14"
   ]
  },
  {
   "cell_type": "code",
   "execution_count": 4,
   "id": "851e0617",
   "metadata": {},
   "outputs": [],
   "source": [
    "bool_ = True"
   ]
  },
  {
   "cell_type": "code",
   "execution_count": 5,
   "id": "c6847a14",
   "metadata": {},
   "outputs": [],
   "source": [
    "x =2; y = 3; z =5;"
   ]
  },
  {
   "cell_type": "code",
   "execution_count": 6,
   "id": "5f2f2a22",
   "metadata": {},
   "outputs": [
    {
     "name": "stdout",
     "output_type": "stream",
     "text": [
      "6\n",
      "-3\n",
      "0\n",
      "1.6666666666666667\n",
      "3\n"
     ]
    }
   ],
   "source": [
    "print(x*y)\n",
    "print(x-z)\n",
    "print(x//z)\n",
    "print(z/y)\n",
    "print(y%z)"
   ]
  },
  {
   "cell_type": "code",
   "execution_count": 7,
   "id": "82e8a108",
   "metadata": {},
   "outputs": [
    {
     "name": "stdout",
     "output_type": "stream",
     "text": [
      "3958.7558514899997 miles\n"
     ]
    }
   ],
   "source": [
    "earth_radius = 6371;\n",
    "radius = earth_radius * 0.62137119\n",
    "print (radius, 'miles')"
   ]
  },
  {
   "cell_type": "code",
   "execution_count": 8,
   "id": "7065a52f",
   "metadata": {},
   "outputs": [
    {
     "name": "stdout",
     "output_type": "stream",
     "text": [
      "12192.0\n"
     ]
    }
   ],
   "source": [
    "feet = 40000\n",
    "meters = feet * 0.3048\n",
    "print(meters)"
   ]
  },
  {
   "cell_type": "code",
   "execution_count": 9,
   "id": "7d2b3123",
   "metadata": {},
   "outputs": [
    {
     "name": "stdout",
     "output_type": "stream",
     "text": [
      "1.5\n"
     ]
    }
   ],
   "source": [
    "print(2+5*3/6-3)"
   ]
  },
  {
   "cell_type": "code",
   "execution_count": 10,
   "id": "1066f1cb",
   "metadata": {},
   "outputs": [
    {
     "name": "stdout",
     "output_type": "stream",
     "text": [
      "0.5\n"
     ]
    }
   ],
   "source": [
    "print((2+5)*3/6-3)"
   ]
  },
  {
   "cell_type": "code",
   "execution_count": 11,
   "id": "147bb7da",
   "metadata": {},
   "outputs": [
    {
     "name": "stdout",
     "output_type": "stream",
     "text": [
      "7.0\n"
     ]
    }
   ],
   "source": [
    "print(2+5*3/(6-3))"
   ]
  },
  {
   "cell_type": "code",
   "execution_count": 12,
   "id": "044ec5aa",
   "metadata": {},
   "outputs": [],
   "source": [
    "# Integer variable\n",
    "a = 5"
   ]
  },
  {
   "cell_type": "code",
   "execution_count": 13,
   "id": "766ff8a3",
   "metadata": {},
   "outputs": [],
   "source": [
    "# String variable\n",
    "b = \"Hello\""
   ]
  },
  {
   "cell_type": "code",
   "execution_count": 14,
   "id": "e8a6b42a",
   "metadata": {},
   "outputs": [],
   "source": [
    "# List variable\n",
    "c = [1, 2, 3]"
   ]
  },
  {
   "cell_type": "code",
   "execution_count": 15,
   "id": "3689b32f",
   "metadata": {},
   "outputs": [],
   "source": [
    "# Boolean variable\n",
    "d = True"
   ]
  },
  {
   "cell_type": "code",
   "execution_count": 16,
   "id": "95484a03",
   "metadata": {},
   "outputs": [],
   "source": [
    "# Float variable\n",
    "e = 3.14"
   ]
  },
  {
   "cell_type": "code",
   "execution_count": 17,
   "id": "ce374227",
   "metadata": {},
   "outputs": [],
   "source": [
    "# Dictionary variable\n",
    "f = {\"key\": \"value\"}"
   ]
  },
  {
   "cell_type": "code",
   "execution_count": 18,
   "id": "b6552f35",
   "metadata": {},
   "outputs": [
    {
     "name": "stdout",
     "output_type": "stream",
     "text": [
      "5 <class 'int'>\n",
      "Hello <class 'str'>\n",
      "[1, 2, 3] <class 'list'>\n",
      "True <class 'bool'>\n",
      "3.14 <class 'float'>\n",
      "{'key': 'value'} <class 'dict'>\n"
     ]
    }
   ],
   "source": [
    "print(a, type(a))  # Output: 5 <class 'int'>\n",
    "print(b, type(b))  # Output: Hello <class 'str'>\n",
    "print(c, type(c))  # Output: [1, 2, 3] <class 'list'>\n",
    "print(d, type(d))  # Output: True <class 'bool'>\n",
    "print(e, type(e))  # Output: 3.14 <class 'float'>\n",
    "print(f, type(f))  # Output: {'key': 'value'} <class 'dict'>"
   ]
  },
  {
   "cell_type": "code",
   "execution_count": 19,
   "id": "9f29716a",
   "metadata": {},
   "outputs": [
    {
     "name": "stdout",
     "output_type": "stream",
     "text": [
      "a: [1, 2, 3, 4]\n",
      "b: [1, 2, 3, 4]\n"
     ]
    }
   ],
   "source": [
    "# Assigning a list to the variable a\n",
    "a = [1, 2, 3]\n",
    "\n",
    "# Assigning the value of a to another variable b\n",
    "b = a\n",
    "\n",
    "# Modify the list through the second variable b\n",
    "b.append(4)\n",
    "print(\"a:\", a) \n",
    "print(\"b:\", b)"
   ]
  },
  {
   "cell_type": "code",
   "execution_count": 20,
   "id": "e15bc3cd",
   "metadata": {},
   "outputs": [
    {
     "name": "stdout",
     "output_type": "stream",
     "text": [
      "0.9\n",
      "0.4\n"
     ]
    }
   ],
   "source": [
    "glass = 0.5\n",
    "pull = 0.4\n",
    "glass += pull\n",
    "print(glass)\n",
    "print(pull)"
   ]
  },
  {
   "cell_type": "code",
   "execution_count": 21,
   "id": "bc75b37b",
   "metadata": {},
   "outputs": [
    {
     "name": "stdout",
     "output_type": "stream",
     "text": [
      "0.2\n",
      "0.4\n"
     ]
    }
   ],
   "source": [
    "glass = 0.5\n",
    "pull = 0.4\n",
    "glass *= pull\n",
    "print(glass)\n",
    "print(pull)"
   ]
  },
  {
   "cell_type": "code",
   "execution_count": 22,
   "id": "9c9fcef3",
   "metadata": {},
   "outputs": [
    {
     "name": "stdout",
     "output_type": "stream",
     "text": [
      "1.25\n",
      "0.4\n"
     ]
    }
   ],
   "source": [
    "glass = 0.5\n",
    "pull = 0.4\n",
    "glass /= pull\n",
    "print(glass)\n",
    "print(pull)"
   ]
  },
  {
   "cell_type": "code",
   "execution_count": 23,
   "id": "618cf52f",
   "metadata": {},
   "outputs": [
    {
     "name": "stdout",
     "output_type": "stream",
     "text": [
      "1\n",
      "4\n"
     ]
    }
   ],
   "source": [
    "glass = 5\n",
    "pull = 4\n",
    "glass %= pull\n",
    "print(glass)\n",
    "print(pull)"
   ]
  },
  {
   "cell_type": "code",
   "execution_count": 24,
   "id": "b6d689dd",
   "metadata": {},
   "outputs": [
    {
     "name": "stdout",
     "output_type": "stream",
     "text": [
      "5\n",
      "4\n"
     ]
    }
   ],
   "source": [
    "glass = 23\n",
    "pull = 4\n",
    "glass //= pull\n",
    "print(glass)\n",
    "print(pull)"
   ]
  },
  {
   "cell_type": "code",
   "execution_count": 25,
   "id": "70693822",
   "metadata": {},
   "outputs": [
    {
     "name": "stdout",
     "output_type": "stream",
     "text": [
      "The number is ODD\n"
     ]
    }
   ],
   "source": [
    "num = 29\n",
    "if num%2 == 0:\n",
    "    print(\"The number is even\")\n",
    "else: \n",
    "    print(\"The number is ODD\")"
   ]
  },
  {
   "cell_type": "code",
   "execution_count": 26,
   "id": "33eac078",
   "metadata": {},
   "outputs": [
    {
     "name": "stdout",
     "output_type": "stream",
     "text": [
      "Enter a year: 2024\n",
      "2024 is a leap year.\n"
     ]
    }
   ],
   "source": [
    "def is_leap_year(year):\n",
    "    if year % 400 == 0:\n",
    "        return True\n",
    "    elif year % 100 == 0:\n",
    "        return False\n",
    "    elif year % 4 == 0:\n",
    "        return True\n",
    "    else:\n",
    "        return False\n",
    "\n",
    "year = int(input(\"Enter a year: \"))\n",
    "if is_leap_year(year):\n",
    "    print(f\"{year} is a leap year.\")\n",
    "else:\n",
    "    print(f\"{year} is not a leap year.\")"
   ]
  },
  {
   "cell_type": "code",
   "execution_count": null,
   "id": "35510778",
   "metadata": {},
   "outputs": [],
   "source": []
  }
 ],
 "metadata": {
  "kernelspec": {
   "display_name": "Python 3 (ipykernel)",
   "language": "python",
   "name": "python3"
  },
  "language_info": {
   "codemirror_mode": {
    "name": "ipython",
    "version": 3
   },
   "file_extension": ".py",
   "mimetype": "text/x-python",
   "name": "python",
   "nbconvert_exporter": "python",
   "pygments_lexer": "ipython3",
   "version": "3.9.16"
  }
 },
 "nbformat": 4,
 "nbformat_minor": 5
}
