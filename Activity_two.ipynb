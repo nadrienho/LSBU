{
 "cells": [
  {
   "cell_type": "code",
   "execution_count": 2,
   "id": "81fb8715",
   "metadata": {},
   "outputs": [
    {
     "name": "stdout",
     "output_type": "stream",
     "text": [
      "Enter a number12\n"
     ]
    }
   ],
   "source": [
    "mynum = input(\"Enter a number\")"
   ]
  },
  {
   "cell_type": "code",
   "execution_count": 3,
   "id": "29a95bb6",
   "metadata": {},
   "outputs": [
    {
     "name": "stdout",
     "output_type": "stream",
     "text": [
      "enter the value of pi3.14\n",
      "3.14\n"
     ]
    }
   ],
   "source": [
    "pi = float(input(\"enter the value of pi\"))\n",
    "print(pi)"
   ]
  },
  {
   "cell_type": "code",
   "execution_count": 4,
   "id": "85069e7e",
   "metadata": {},
   "outputs": [
    {
     "name": "stdout",
     "output_type": "stream",
     "text": [
      "0\n",
      "1\n",
      "2\n",
      "3\n",
      "4\n"
     ]
    }
   ],
   "source": [
    "for i in range (5):\n",
    "    print(i)"
   ]
  },
  {
   "cell_type": "code",
   "execution_count": 5,
   "id": "b44df1a7",
   "metadata": {},
   "outputs": [
    {
     "name": "stdout",
     "output_type": "stream",
     "text": [
      "0\n",
      "1\n",
      "2\n",
      "3\n",
      "4\n",
      "5\n",
      "6\n",
      "7\n",
      "8\n",
      "9\n",
      "10\n"
     ]
    }
   ],
   "source": [
    "for i in range (11):\n",
    "    print(i)"
   ]
  },
  {
   "cell_type": "code",
   "execution_count": 6,
   "id": "305ca831",
   "metadata": {},
   "outputs": [
    {
     "name": "stdout",
     "output_type": "stream",
     "text": [
      "1\n",
      "2\n",
      "3\n",
      "4\n",
      "5\n",
      "6\n",
      "7\n",
      "8\n",
      "9\n"
     ]
    }
   ],
   "source": [
    "for i in range (1,10):\n",
    "    print(i)"
   ]
  },
  {
   "cell_type": "code",
   "execution_count": 7,
   "id": "bf5c8313",
   "metadata": {},
   "outputs": [
    {
     "name": "stdout",
     "output_type": "stream",
     "text": [
      "Enter the lower end of the range: 2\n",
      "Enter the higher end of the range: 9\n",
      "2\n",
      "3\n",
      "4\n",
      "5\n",
      "6\n",
      "7\n",
      "8\n",
      "9\n"
     ]
    }
   ],
   "source": [
    "m = int(input(\"Enter the lower end of the range: \"))\n",
    "n = int(input(\"Enter the higher end of the range: \"))\n",
    "for i in range (m,n+1):\n",
    "    print(i)"
   ]
  },
  {
   "cell_type": "code",
   "execution_count": 8,
   "id": "fad723b8",
   "metadata": {},
   "outputs": [
    {
     "name": "stdout",
     "output_type": "stream",
     "text": [
      "Enter the lower end of the range: 1\n",
      "Enter the higher end of the range: 7\n",
      "Enter how many digits to step: 2\n",
      "1\n",
      "3\n",
      "5\n",
      "7\n"
     ]
    }
   ],
   "source": [
    "m = int(input(\"Enter the lower end of the range: \"))\n",
    "n = int(input(\"Enter the higher end of the range: \"))\n",
    "p = int(input(\"Enter how many digits to step: \"))\n",
    "for i in range (m,n+1,p):\n",
    "    print(i)"
   ]
  },
  {
   "cell_type": "code",
   "execution_count": 9,
   "id": "8572f5ca",
   "metadata": {},
   "outputs": [
    {
     "name": "stdout",
     "output_type": "stream",
     "text": [
      "7\n",
      "8\n",
      "9\n",
      "10\n",
      "11\n",
      "12\n",
      "13\n",
      "14\n",
      "15\n",
      "16\n",
      "17\n"
     ]
    }
   ],
   "source": [
    "count = 7\n",
    "while count<= 17:\n",
    "    print (count)\n",
    "    count += 1"
   ]
  },
  {
   "cell_type": "code",
   "execution_count": 10,
   "id": "588b47f4",
   "metadata": {},
   "outputs": [
    {
     "name": "stdout",
     "output_type": "stream",
     "text": [
      "1\n",
      "3\n",
      "5\n",
      "7\n",
      "9\n",
      "11\n",
      "13\n",
      "15\n",
      "17\n",
      "19\n",
      "21\n",
      "23\n",
      "25\n",
      "27\n"
     ]
    }
   ],
   "source": [
    "i = 1\n",
    "while i <= 28:\n",
    "    print(i)\n",
    "    i += 2  \n"
   ]
  },
  {
   "cell_type": "code",
   "execution_count": 11,
   "id": "d423cdd6",
   "metadata": {},
   "outputs": [
    {
     "name": "stdout",
     "output_type": "stream",
     "text": [
      "Enter a number: 10\n",
      "Count is: 0\n",
      "Count is: 1\n",
      "Count is: 2\n",
      "Count is: 3\n",
      "Count is: 4\n",
      "Count is: 5\n",
      "Count is: 6\n",
      "Count is: 7\n",
      "Count is: 8\n",
      "Count is: 9\n",
      "Count is: 10\n",
      "Loop has finished!\n"
     ]
    }
   ],
   "source": [
    "user_input = int(input(\"Enter a number: \"))\n",
    "\n",
    "count = 0\n",
    "\n",
    "while count <= user_input:\n",
    "    print(f\"Count is: {count}\")\n",
    "    \n",
    "    count += 1\n",
    "\n",
    "print(\"Loop has finished!\")"
   ]
  },
  {
   "cell_type": "code",
   "execution_count": 12,
   "id": "74bd7abf",
   "metadata": {},
   "outputs": [
    {
     "name": "stdout",
     "output_type": "stream",
     "text": [
      "0\n",
      "1\n",
      "2\n",
      "3\n",
      "4\n",
      "5\n",
      "6\n",
      "7\n",
      "8\n",
      "9\n"
     ]
    }
   ],
   "source": [
    "for num in range(16): #numbers btw 0 and 15 and break when we reach 10\n",
    "    if num == 10:\n",
    "        break \n",
    "    print(num)"
   ]
  },
  {
   "cell_type": "code",
   "execution_count": 13,
   "id": "9f1793d4",
   "metadata": {},
   "outputs": [
    {
     "name": "stdout",
     "output_type": "stream",
     "text": [
      "1\n",
      "3\n",
      "5\n",
      "7\n",
      "9\n",
      "11\n",
      "13\n",
      "15\n",
      "17\n"
     ]
    }
   ],
   "source": [
    "for num in range(1, 19, 2): #Odd numbers btw 0 and 18 and breaks when we reach 12\n",
    "    if num == 12:\n",
    "        break \n",
    "    print(num)"
   ]
  },
  {
   "cell_type": "code",
   "execution_count": null,
   "id": "786fe2fa",
   "metadata": {},
   "outputs": [],
   "source": [
    "# user inputs range\n",
    "user_input = int(input(\"Enter a number: \"))\n",
    "half_range = user_input // 2\n",
    "\n",
    "# For loop with count <= user_input\n",
    "for count in range(user_input + 1):  # range goes from 0 to user_input\n",
    "    if count == half_range:\n",
    "        break  # Stop when count reaches half of the user input\n",
    "    print(count)"
   ]
  },
  {
   "cell_type": "code",
   "execution_count": null,
   "id": "f002bbb1",
   "metadata": {},
   "outputs": [],
   "source": [
    "#print numbers <= 9 except those not divisible by 2\n",
    "count = 0\n",
    "\n",
    "while count <= 9:\n",
    "    if count % 2 != 0:  # Check if the number is not divisible by 2\n",
    "        count += 1  \n",
    "        continue  # Skiping the current iteration if the number is not divisible by 2\n",
    "    print(count)  \n",
    "    count += 1"
   ]
  },
  {
   "cell_type": "code",
   "execution_count": null,
   "id": "660f4d26",
   "metadata": {},
   "outputs": [],
   "source": [
    "#  printing out only the even values less than or equal to 16\n",
    "count = 0\n",
    "\n",
    "while count <= 16:\n",
    "    if count % 2 != 0:  # Check if the number is odd\n",
    "        count += 1  \n",
    "        continue  # Skiping the current iteration if the number is odd\n",
    "    print(count)  \n",
    "    count += 1"
   ]
  },
  {
   "cell_type": "code",
   "execution_count": null,
   "id": "8a9f02be",
   "metadata": {},
   "outputs": [],
   "source": [
    "def print_average(num1, num2, num3): #function that prints the average of 3 numbers\n",
    "    average = (num1 + num2 + num3) / 3\n",
    "    # Printing the average\n",
    "    print(f\"The average of {num1}, {num2}, and {num3} is: {average}\")"
   ]
  },
  {
   "cell_type": "code",
   "execution_count": null,
   "id": "b0d0cf2a",
   "metadata": {},
   "outputs": [],
   "source": [
    "def print_sum(num1, num2, num3, num4, num5):  # function that calculates the sum of five numbers\n",
    "    total = num1 + num2 + num3 + num4 + num5\n",
    "    print(f\"The sum of {num1}, {num2}, {num3}, {num4}, and {num5} is: {total}\")"
   ]
  },
  {
   "cell_type": "code",
   "execution_count": null,
   "id": "5dd72a7f",
   "metadata": {},
   "outputs": [],
   "source": [
    "import cmath  \n",
    "\n",
    "def solve_quadratic(a, b, c): #function to solve a quadratic equation(ax^2+bx+c=0)\n",
    "    # Calculating the discriminant\n",
    "    discriminant = b**2 - 4*a*c\n",
    "    \n",
    "    # Calculating the two roots\n",
    "    root1 = (-b + cmath.sqrt(discriminant)) / (2 * a)\n",
    "    root2 = (-b - cmath.sqrt(discriminant)) / (2 * a)\n",
    "    \n",
    "    print(f\"The roots of the equation are: {root1} and {root2}\")"
   ]
  },
  {
   "cell_type": "code",
   "execution_count": null,
   "id": "a7c02ceb",
   "metadata": {},
   "outputs": [],
   "source": [
    "def calculate_area_of_triangle(base, height):  # function to Calculate the area of the triangle\n",
    "    area = 0.5 * base * height\n",
    "    print(f\"The area of the triangle with base {base} and height {height} is: {area}\")"
   ]
  },
  {
   "cell_type": "code",
   "execution_count": null,
   "id": "049ca388",
   "metadata": {},
   "outputs": [],
   "source": [
    "def calculate_area_of_circle(radius):  # function to Calculate the area of the circle\n",
    "    area = math.pi * radius ** 2\n",
    "    print(f\"The area of the circle with radius {radius} is: {area}\")"
   ]
  },
  {
   "cell_type": "code",
   "execution_count": null,
   "id": "866b415f",
   "metadata": {},
   "outputs": [],
   "source": [
    "def calculate_volume_of_cylinder(radius, height):  # function to Calculate the volume of the cylinder\n",
    "    volume = math.pi * radius**2 * height\n",
    "    print(f\"The volume of the cylinder with radius {radius} and height {height} is: {volume}\")"
   ]
  },
  {
   "cell_type": "code",
   "execution_count": null,
   "id": "1f2e6968",
   "metadata": {},
   "outputs": [],
   "source": [
    "def calculate_earth_circumference():#function to calculate the circumference of earth\n",
    "    radius_of_earth = 6371 \n",
    "    circumference = 2 * math.pi * radius_of_earth\n",
    "    print(f\"The circumference of the Earth is: {circumference} kilometers\")"
   ]
  },
  {
   "cell_type": "code",
   "execution_count": null,
   "id": "8097ce30",
   "metadata": {},
   "outputs": [],
   "source": []
  }
 ],
 "metadata": {
  "kernelspec": {
   "display_name": "Python 3 (ipykernel)",
   "language": "python",
   "name": "python3"
  },
  "language_info": {
   "codemirror_mode": {
    "name": "ipython",
    "version": 3
   },
   "file_extension": ".py",
   "mimetype": "text/x-python",
   "name": "python",
   "nbconvert_exporter": "python",
   "pygments_lexer": "ipython3",
   "version": "3.9.16"
  }
 },
 "nbformat": 4,
 "nbformat_minor": 5
}
